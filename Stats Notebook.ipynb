{
 "cells": [
  {
   "cell_type": "code",
   "execution_count": 1,
   "metadata": {},
   "outputs": [],
   "source": [
    "import numpy as np\n",
    "import matplotlib.pyplot as plt\n",
    "import scipy as sp\n",
    "import scipy.optimize\n",
    "np.random.seed(1)\n",
    "\n",
    "N_b = 10e5 # Number of background events, used in generation and in fit.\n",
    "b_tau = 30. # Spoiler.\n",
    "\n",
    "def generate_data(n_signals = 400):\n",
    "    ''' \n",
    "    Generate a set of values for signal and background. Input arguement sets \n",
    "    the number of signal events, and can be varied (default to higgs-like at \n",
    "    announcement). \n",
    "    \n",
    "    The background amplitude is fixed to 9e5 events, and is modelled as an exponential, \n",
    "    hard coded width. The signal is modelled as a gaussian on top (again, hard \n",
    "    coded width and mu).\n",
    "    '''\n",
    "    vals = []\n",
    "    vals += generate_signal( n_signals, 125., 1.5)\n",
    "    vals += generate_background( N_b, b_tau)\n",
    "    return vals\n",
    "\n",
    "def generate_data_change_signal(n_signals):\n",
    "    ''' \n",
    "    Generate a set of values for signal and background. Input arguement sets \n",
    "    the number of signal events, and can be varied (default to higgs-like at \n",
    "    announcement). \n",
    "    \n",
    "    The background amplitude is fixed to 9e5 events, and is modelled as an exponential, \n",
    "    hard coded width. The signal is modelled as a gaussian on top (again, hard \n",
    "    coded width and mu).\n",
    "    '''\n",
    "    vals = []\n",
    "    vals += generate_signal( n_signals, 125., 1.5)\n",
    "    vals += generate_background( N_b, b_tau)\n",
    "    return vals\n",
    "\n",
    "def generate_signal(N, mu, sig):\n",
    "    ''' \n",
    "    Generate N values according to a gaussian distribution.\n",
    "    '''\n",
    "    return np.random.normal(loc = mu, scale = sig, size = N).tolist()\n",
    "\n",
    "\n",
    "def generate_background(N, tau):\n",
    "    ''' \n",
    "    Generate N values according to an exp distribution.\n",
    "    '''\n",
    "    return np.random.exponential(scale = tau, size = int(N)).tolist()\n",
    "\n",
    "\n",
    "def get_B_chi(vals, mass_range, nbins, A, lamb):\n",
    "    ''' \n",
    "    Calculates the chi-square value of the no-signal hypothesis (i.e background\n",
    "    only) for the passed values. Need an expectation - use the analyic form, \n",
    "    using the hard coded scale of the exp. That depends on the binning, so pass \n",
    "    in as argument. The mass range must also be set - otherwise, its ignored.\n",
    "    '''\n",
    "    bin_heights, bin_edges = np.histogram(vals, range = mass_range, bins = nbins)\n",
    "    half_bin_width = 0.5*(bin_edges[1] - bin_edges[0])\n",
    "    ys_expected = get_B_expectation(bin_edges + half_bin_width, A, lamb)\n",
    "    chi = 0\n",
    "\n",
    "    # Loop over bins - all of them for now. \n",
    "    for i in range( len(bin_heights) ):\n",
    "        chi_nominator = (bin_heights[i] - ys_expected[i])**2\n",
    "        chi_denominator = ys_expected[i]\n",
    "        chi += chi_nominator / chi_denominator\n",
    "    \n",
    "    return chi/float(nbins-2) # B has 2 parameters.\n",
    "\n",
    "\n",
    "def get_B_expectation(xs, A, lamb):\n",
    "    ''' \n",
    "    Return a set of expectation values for the background distribution for the \n",
    "    passed in x values. \n",
    "    '''\n",
    "    return [A*np.exp(-x/lamb) for x in xs]\n",
    "\n",
    "\n",
    "def signal_gaus(x, mu, sig, signal_amp):\n",
    "    return signal_amp/(np.sqrt(2.*np.pi)*sig)*np.exp(-np.power((x - mu)/sig, 2.)/2)\n",
    "\n",
    "\n",
    "def get_SB_expectation(xs, A, lamb, mu, sig, signal_amp):\n",
    "    ys = []\n",
    "    for x in xs:\n",
    "        ys.append(A*np.exp(-x/lamb) + signal_gaus(x, mu, sig, signal_amp))\n",
    "    return ys"
   ]
  },
  {
   "cell_type": "markdown",
   "metadata": {},
   "source": [
    "1. Generating Simulated Data"
   ]
  },
  {
   "cell_type": "code",
   "execution_count": 2,
   "metadata": {},
   "outputs": [
    {
     "data": {
      "image/png": "[encoded data removed]",
      "text/plain": [
       "<Figure size 432x288 with 1 Axes>"
      ]
     },
     "metadata": {
      "needs_background": "light"
     },
     "output_type": "display_data"
    }
   ],
   "source": [
    "def loadData(bin):\n",
    "    vals = generate_data()\n",
    "    bin_heights, bin_edges = np.histogram(vals, range = [104.0,155.0], bins = bin)\n",
    "    centerVal = []\n",
    "    for i in range(0,len(bin_edges)-1):\n",
    "        midVal = (bin_edges[i]+bin_edges[i+1])*0.5\n",
    "        centerVal.append(midVal)\n",
    "    return vals,centerVal,bin_heights,bin_edges\n",
    "\n",
    "def loadDataVariableSignal(bin,n_signals):\n",
    "    vals = generate_data_change_signal(n_signals)\n",
    "    bin_heights, bin_edges = np.histogram(vals, range = [104.0,155.0], bins = bin)\n",
    "    centerVal = []\n",
    "    for i in range(0,len(bin_edges)-1):\n",
    "        midVal = (bin_edges[i]+bin_edges[i+1])*0.5\n",
    "        centerVal.append(midVal)\n",
    "    return vals,centerVal,bin_heights,bin_edges\n",
    "\n",
    "def one():\n",
    "    bin = 30\n",
    "    vals,centerVal,bin_heights,bin_edges = loadData(bin)\n",
    "    std = np.sqrt(bin_heights)\n",
    "    plt.hist(vals, range = [104.0,155.0], bins = bin)\n",
    "    plt.plot(centerVal,bin_heights,\".\", label = \"Data\",color = \"black\")\n",
    "    plt.errorbar(centerVal, bin_heights, yerr=std, fmt='.', color = \"black\",linewidth=0.5)\n",
    "    plt.xlabel(\"Rest Mass (GeV)\")\n",
    "    plt.ylabel(\"Number of Entries\")\n",
    "    plt.title('Bin = 30')\n",
    "    plt.legend()\n",
    "    plt.show()\n",
    "    \n",
    "one()"
   ]
  },
  {
   "cell_type": "markdown",
   "metadata": {},
   "source": [
    "Trying different bin values."
   ]
  },
  {
   "cell_type": "code",
   "execution_count": 3,
   "metadata": {},
   "outputs": [
    {
     "data": {
      "image/png": "[encoded data removed]",
      "text/plain": [
       "<Figure size 432x288 with 1 Axes>"
      ]
     },
     "metadata": {
      "needs_background": "light"
     },
     "output_type": "display_data"
    }
   ],
   "source": [
    "def one50():\n",
    "    bin = 50\n",
    "    vals,centerVal,bin_heights,bin_edges = loadData(bin)\n",
    "    std = np.sqrt(bin_heights)\n",
    "    plt.hist(vals, range = [104.0,155.0], bins = bin)\n",
    "    plt.plot(centerVal,bin_heights,\".\", label = \"Data\",color = \"black\")\n",
    "    plt.errorbar(centerVal, bin_heights, yerr=std, fmt='.', color = \"black\",linewidth=0.5)\n",
    "    plt.xlabel(\"Rest Mass (GeV)\")\n",
    "    plt.ylabel(\"Number of Entries\")\n",
    "    plt.title('Bin = 50')\n",
    "    plt.legend()\n",
    "    plt.show()\n",
    "one50()"
   ]
  },
  {
   "cell_type": "code",
   "execution_count": 4,
   "metadata": {},
   "outputs": [
    {
     "data": {
      "image/png": "[encoded data removed]",
      "text/plain": [
       "<Figure size 432x288 with 1 Axes>"
      ]
     },
     "metadata": {
      "needs_background": "light"
     },
     "output_type": "display_data"
    }
   ],
   "source": [
    "def one70():\n",
    "    bin = 70\n",
    "    vals,centerVal,bin_heights,bin_edges = loadData(bin)\n",
    "    std = np.sqrt(bin_heights)\n",
    "    plt.hist(vals, range = [104.0,155.0], bins = bin)\n",
    "    plt.plot(centerVal,bin_heights,\".\", label = \"Data\",color = \"black\")\n",
    "    plt.errorbar(centerVal, bin_heights, yerr=std, fmt='.', color = \"black\",linewidth=0.5)\n",
    "    plt.xlabel(\"Rest Mass (GeV)\")\n",
    "    plt.ylabel(\"Number of Entries\")\n",
    "    plt.title('Bin = 70')\n",
    "    plt.legend()\n",
    "    plt.show()\n",
    "one70()"
   ]
  },
  {
   "cell_type": "code",
   "execution_count": 5,
   "metadata": {},
   "outputs": [
    {
     "data": {
      "image/png": "[encoded data removed]",
      "text/plain": [
       "<Figure size 432x288 with 1 Axes>"
      ]
     },
     "metadata": {
      "needs_background": "light"
     },
     "output_type": "display_data"
    }
   ],
   "source": [
    "def one100():\n",
    "    bin = 100\n",
    "    vals,centerVal,bin_heights,bin_edges = loadData(bin)\n",
    "    std = np.sqrt(bin_heights)\n",
    "    plt.hist(vals, range = [104.0,155.0], bins = bin)\n",
    "    plt.plot(centerVal,bin_heights,\".\", label = \"Data\",color = \"black\")\n",
    "    plt.errorbar(centerVal, bin_heights, yerr=std, fmt='.', color = \"black\",linewidth=0.5)\n",
    "    plt.xlabel(\"Rest Mass (GeV)\")\n",
    "    plt.ylabel(\"Number of Entries\")\n",
    "    plt.title('Bin = 100')\n",
    "    plt.legend()\n",
    "    plt.show()\n",
    "one100()"
   ]
  },
  {
   "cell_type": "markdown",
   "metadata": {},
   "source": [
    "2. Background Parameterisation"
   ]
  },
  {
   "cell_type": "markdown",
   "metadata": {},
   "source": [
    "a)"
   ]
  },
  {
   "cell_type": "code",
   "execution_count": 6,
   "metadata": {},
   "outputs": [
    {
     "name": "stdout",
     "output_type": "stream",
     "text": [
      "27.787229141720697 Lambda Value (Using Values below 120)\n"
     ]
    },
    {
     "data": {
      "text/plain": [
       "27.787229141720697"
      ]
     },
     "execution_count": 6,
     "metadata": {},
     "output_type": "execute_result"
    }
   ],
   "source": [
    "def twoa():\n",
    "    total = 0\n",
    "    length = 0 \n",
    "    bin = 30\n",
    "    vals,centerVal,bin_heights,bin_edges = loadData(bin)\n",
    "    length = 0\n",
    "    total = 0\n",
    "    for i in range(0,len(vals)):\n",
    "        if(vals[i] < 120.0):\n",
    "            total = total + vals[i]\n",
    "            length = length + 1\n",
    "    lamb = total/length\n",
    "    print(total/length,\"Lambda Value (Using Values below 120)\")\n",
    "    return lamb\n",
    "twoa()"
   ]
  },
  {
   "cell_type": "code",
   "execution_count": 7,
   "metadata": {},
   "outputs": [
    {
     "name": "stdout",
     "output_type": "stream",
     "text": [
      "30.046039659527356 Lambda Value (Using All Values)\n"
     ]
    },
    {
     "data": {
      "text/plain": [
       "30.046039659527356"
      ]
     },
     "execution_count": 7,
     "metadata": {},
     "output_type": "execute_result"
    }
   ],
   "source": [
    "def twoaAllValues():\n",
    "    total = 0\n",
    "    length = 0 \n",
    "    bin = 30\n",
    "    vals,centerVal,bin_heights,bin_edges = loadData(bin)\n",
    "    length = 0\n",
    "    total = 0\n",
    "    for i in range(0,len(vals)):\n",
    "        total = total + vals[i]\n",
    "        length = length + 1\n",
    "    lamb = total/length\n",
    "    print(total/length,\"Lambda Value (Using All Values)\")\n",
    "    return lamb\n",
    "twoaAllValues()"
   ]
  },
  {
   "cell_type": "markdown",
   "metadata": {},
   "source": [
    "B & C)"
   ]
  },
  {
   "cell_type": "code",
   "execution_count": 8,
   "metadata": {},
   "outputs": [
    {
     "name": "stdout",
     "output_type": "stream",
     "text": [
      "27.75325178057594 Lambda Value (Using Values below 120)\n",
      "Total Area under Histogram 44183.0\n",
      "80149 Estimated A Value\n"
     ]
    },
    {
     "data": {
      "image/png": "[encoded data removed]",
      "text/plain": [
       "<Figure size 432x288 with 1 Axes>"
      ]
     },
     "metadata": {
      "needs_background": "light"
     },
     "output_type": "display_data"
    },
    {
     "data": {
      "text/plain": [
       "80149"
      ]
     },
     "execution_count": 8,
     "metadata": {},
     "output_type": "execute_result"
    }
   ],
   "source": [
    "def twob():\n",
    "    fit = True\n",
    "    lamb = twoa()\n",
    "    totalarea = 0\n",
    "    estimatedArea = 0\n",
    "    AVar=50000\n",
    "    step = 0.1\n",
    "    bin = 30\n",
    "    vals,centerVal,bin_heights,bin_edges = loadData(bin)\n",
    "    rangeVal = [104.0,155.0]\n",
    "    massVal = np.arange(float(rangeVal[0]),float(rangeVal[1]),step)\n",
    "    histogramWidth = (float(rangeVal[1])-float(rangeVal[0]))/(bin)\n",
    "\n",
    "    for i in range(0,len(bin_heights)):\n",
    "        totalarea = bin_heights[i]*histogramWidth + totalarea\n",
    "        \n",
    "    print(\"Total Area under Histogram\",totalarea)\n",
    "    while(fit):\n",
    "        estimatedArea = 0\n",
    "        for i in range(0,len(massVal)):\n",
    "            estimatedArea = AVar*np.exp(-massVal[i]/lamb)*step+estimatedArea\n",
    "\n",
    "        if(estimatedArea<totalarea):\n",
    "            AVar = AVar +1\n",
    "        else:\n",
    "            AVar = AVar - 1\n",
    "            fit = False\n",
    "\n",
    "    std = np.sqrt(bin_heights)\n",
    "    print(AVar,\"Estimated A Value\")\n",
    "    plt.plot(massVal,AVar*np.exp(-massVal/lamb),label = \"Estimated Parameters\")\n",
    "    plt.hist(vals, range = [104.0,155.0], bins = 30)\n",
    "    plt.plot(centerVal,bin_heights,\".\", label = \"Data\",color = \"black\")\n",
    "    plt.errorbar(centerVal, bin_heights, yerr=std, fmt='.', color = \"black\",linewidth=0.5)\n",
    "    plt.xlabel(\"Rest Mass (GeV)\")\n",
    "    plt.ylabel(\"Number of Entries\")\n",
    "    plt.legend()\n",
    "    plt.show()\n",
    "    return AVar\n",
    "twob()"
   ]
  },
  {
   "cell_type": "markdown",
   "metadata": {},
   "source": [
    "D) This takes a while, so maybe run this in spyder. Running this method in here, will produce different values very time."
   ]
  },
  {
   "cell_type": "code",
   "execution_count": 9,
   "metadata": {},
   "outputs": [
    {
     "name": "stdout",
     "output_type": "stream",
     "text": [
      "0 A have been checked\n",
      "[9999, 0, 0] where [chi,A,lamb]\n",
      "5000 A have been checked\n",
      "[5.236843596575129, 44999, 31.9] where [chi,A,lamb]\n",
      "10000 A have been checked\n",
      "[5.14148089173421, 48287, 31.27] where [chi,A,lamb]\n",
      "15000 A have been checked\n",
      "[5.14148089173421, 48287, 31.27] where [chi,A,lamb]\n",
      "20000 A have been checked\n",
      "[5.14148089173421, 48287, 31.27] where [chi,A,lamb]\n",
      "25000 A have been checked\n",
      "[5.14148089173421, 48287, 31.27] where [chi,A,lamb]\n",
      "All A have been checked\n",
      "[5.14148089173421, 48287, 31.27] Final [chi,A,lamb]\n"
     ]
    },
    {
     "data": {
      "text/plain": [
       "(5.14148089173421, 0)"
      ]
     },
     "execution_count": 9,
     "metadata": {},
     "output_type": "execute_result"
    },
    {
     "data": {
      "image/png": "[encoded data removed]",
      "text/plain": [
       "<Figure size 432x288 with 1 Axes>"
      ]
     },
     "metadata": {
      "needs_background": "light"
     },
     "output_type": "display_data"
    }
   ],
   "source": [
    "def twod():\n",
    "    bin = 30\n",
    "    vals,centerVal,bin_heights,bin_edges = loadData(bin)\n",
    "    centerVal = np.array(centerVal)\n",
    "    std = np.sqrt(bin_heights)\n",
    "    step = 1\n",
    "    massVal = np.arange(104.0,155.0,step)\n",
    "    chiArray = [9999,0,0]\n",
    "    chi = 0\n",
    "    A = 40000\n",
    "    lamb = 29\n",
    "    if(A < 0):\n",
    "        A = 1\n",
    "    for i in range(0,30000):\n",
    "        if(i%5000 == 0):\n",
    "                print(i,\"A have been checked\")\n",
    "                print(chiArray,\"where [chi,A,lamb]\")\n",
    "        Av = A + i\n",
    "        for k in range(0,600):\n",
    "            lambv = lamb +k/100\n",
    "            chi = 0\n",
    "            expected = Av*np.exp(-centerVal/lambv)\n",
    "            for o in range(0,len(centerVal)):\n",
    "                if(centerVal[o]<120):\n",
    "                    chi = ((bin_heights[o]- expected[o])**2)/expected[o] + chi\n",
    "            #chi = chi/float(9-2)\n",
    "            if(chiArray[0]> chi):\n",
    "                chiArray = [chi,Av,lambv]\n",
    "    print(\"All A have been checked\")\n",
    "    print(chiArray,\"Final [chi,A,lamb]\")\n",
    "    plt.plot(massVal,chiArray[1]*np.exp(-massVal/chiArray[2]),label = \"Optimized Parameters\")\n",
    "    plt.plot(centerVal,bin_heights,\".\", label = \"Data\",color = \"black\")\n",
    "    plt.hist(vals, range = [104.0,155.0], bins = 30)\n",
    "    plt.errorbar(centerVal, bin_heights, yerr=std, fmt='.', color = \"black\",linewidth=0.5)\n",
    "    plt.legend()\n",
    "    plt.xlabel(\"Rest Mass (GeV)\")\n",
    "    plt.ylabel(\"Number of Entries\")\n",
    "\n",
    "    n = 0\n",
    "    for i in range(0,len(centerVal)):\n",
    "        if(centerVal[i]<120):\n",
    "            n = n +1\n",
    "        \n",
    "    return float(chiArray[0]),n\n",
    "\n",
    "twod()"
   ]
  },
  {
   "cell_type": "markdown",
   "metadata": {},
   "source": [
    "The unoffical but faster way of working this out, is to use the curve fit function then use the parameters given by the fit to calculate chi squared. Although the answer is not exactly the same."
   ]
  },
  {
   "cell_type": "code",
   "execution_count": 10,
   "metadata": {},
   "outputs": [
    {
     "name": "stdout",
     "output_type": "stream",
     "text": [
      "Chi Squared Value of: 5.06652168737474\n",
      "For Values, A= 49995.52692278104 and lambda= 31.05282223492191\n"
     ]
    }
   ],
   "source": [
    "def fit_curve(x,A,lamb):\n",
    "    curve = A*np.exp(-x/lamb)\n",
    "    return curve\n",
    "\n",
    "def reduceChiSquared():\n",
    "    A=80000\n",
    "    lamb=40\n",
    "    chi = 0\n",
    "    bin = 30\n",
    "    vals,centerVal,bin_heights,bin_edges = loadData(bin)\n",
    "    initial_guess = [A,lamb]\n",
    "    centerVal = np.array(centerVal)\n",
    "    vals = np.array(vals)\n",
    "    centerValNew = []\n",
    "    heightbin = []\n",
    "    for i in range (0,len(centerVal)):\n",
    "        if (centerVal[i] < 120):\n",
    "            centerValNew.append(centerVal[i])\n",
    "            heightbin.append(bin_heights[i])\n",
    "    centerValNew = np.array(centerValNew)\n",
    "    heightbin = np.array(heightbin)\n",
    "    po1,cov1 = sp.optimize.curve_fit(fit_curve,centerValNew,heightbin,initial_guess,np.sqrt(heightbin))\n",
    "    expected = po1[0]*np.exp(-centerValNew/po1[1])\n",
    "    for o in range(0,len(centerValNew)):\n",
    "        chi = (heightbin[o]- expected[o])**2/expected[o] + chi\n",
    "    print(\"Chi Squared Value of:\", chi)\n",
    "    print(\"For Values, A=\",po1[0],\"and lambda=\",po1[1])\n",
    "reduceChiSquared()"
   ]
  },
  {
   "cell_type": "markdown",
   "metadata": {},
   "source": [
    "Chi Squared Value of estimated parameters found in part 2a and 2b."
   ]
  },
  {
   "cell_type": "code",
   "execution_count": 11,
   "metadata": {},
   "outputs": [
    {
     "name": "stdout",
     "output_type": "stream",
     "text": [
      "Chi value for A = 80314, Lamb = 27.75: 59.23448206097154\n"
     ]
    }
   ],
   "source": [
    "def estimatedExponentialParameterChi():\n",
    "    bin = 30\n",
    "    vals,centerVal,bin_heights,bin_edges = loadData(bin)\n",
    "    chi = 0\n",
    "    Av = 80149 \n",
    "    lambv = 27.75\n",
    "    centerVal = np.array(centerVal)\n",
    "    expected = Av*np.exp(-centerVal/lambv)\n",
    "    for i in range(0,len(centerVal)):\n",
    "                if(centerVal[i]<120):\n",
    "                    chi = ((bin_heights[i]- expected[i])**2)/expected[i] + chi\n",
    "    print(\"Chi value for A = 80314, Lamb = 27.75:\",chi)\n",
    "estimatedExponentialParameterChi()"
   ]
  },
  {
   "cell_type": "markdown",
   "metadata": {},
   "source": [
    "3. Goodness of Fit"
   ]
  },
  {
   "cell_type": "markdown",
   "metadata": {},
   "source": [
    "As you may be aware, when generating values they are always not the same. However, in the report we need our numbers to all line up, this is why we run the method twod()."
   ]
  },
  {
   "cell_type": "markdown",
   "metadata": {},
   "source": [
    "There are two options, the first option (threea()) takes alot of time as it runs twod() again. If you choose method three, you have to run it through spyder due to consistency of values. We want the reduced chi squared to be the value we got in the function twod divided by the sample-n (Degree of freedom), if the bin is 30, then the sample size will be 9 hence the degree of freedom will be 7. You may have noticed the value we found in part 2d, isn't the same as here, that is why these methods should be run in spyder."
   ]
  },
  {
   "cell_type": "markdown",
   "metadata": {},
   "source": [
    "The second option is to run method threeb(). This is much faster as you manually enter the values found in twod() and it will return the reduce chi squared value."
   ]
  },
  {
   "cell_type": "markdown",
   "metadata": {},
   "source": [
    "We will use A and lambda values from 2d has they return smaller chi squared values."
   ]
  },
  {
   "cell_type": "code",
   "execution_count": null,
   "metadata": {},
   "outputs": [
    {
     "name": "stdout",
     "output_type": "stream",
     "text": [
      "0 A have been checked\n",
      "[9999, 0, 0] where [chi,A,lamb]\n"
     ]
    }
   ],
   "source": [
    "def twodReturnTwoValues():\n",
    "    bin = 30\n",
    "    vals,centerVal,bin_heights,bin_edges = loadData(bin)\n",
    "    centerVal = np.array(centerVal)\n",
    "    std = np.sqrt(bin_heights)\n",
    "    step = 1\n",
    "    massVal = np.arange(104.0,155.0,step)\n",
    "    chiArray = [9999,0,0]\n",
    "    chi = 0\n",
    "    A = 40000\n",
    "    lamb = 29\n",
    "    if(A < 0):\n",
    "        A = 1\n",
    "    for i in range(0,30000):\n",
    "        if(i%5000 == 0):\n",
    "                print(i,\"A have been checked\")\n",
    "                print(chiArray,\"where [chi,A,lamb]\")\n",
    "        Av = A + i\n",
    "        for k in range(0,600):\n",
    "            lambv = lamb +k/100\n",
    "            chi = 0\n",
    "            expected = Av*np.exp(-centerVal/lambv)\n",
    "            for o in range(0,len(centerVal)):\n",
    "                chi = ((bin_heights[o]- expected[o])**2)/expected[o] + chi\n",
    "            if(chiArray[0]> chi):\n",
    "                chiArray = [chi,Av,lambv]\n",
    "    print(\"All A have been checked\")\n",
    "    print(chiArray,\"Final [chi,A,lamb]\")\n",
    "    n = 0\n",
    "    for i in range(0,len(centerVal)):\n",
    "        if(centerVal[o]<120):\n",
    "            n = n +1\n",
    "        \n",
    "    return float(chiArray[0]),n\n",
    "\n",
    "def threea():\n",
    "    chiSquared,n = twodReturnTwoValues()\n",
    "    print(\"The Reduced Chi squared value is:\",chiSquared/(n-2))\n",
    "threea()"
   ]
  },
  {
   "cell_type": "code",
   "execution_count": null,
   "metadata": {},
   "outputs": [],
   "source": [
    "def threeb():\n",
    "    chiSquared = float(input(\"What was your chi squared value found in 2d? \"))\n",
    "    n = float(input(\"What was the sample size in 2d? \"))\n",
    "    print(\"The Reduced Chi squared value is:\",chiSquared/(n-2))\n",
    "threeb()"
   ]
  },
  {
   "cell_type": "markdown",
   "metadata": {},
   "source": [
    "4. Hypothesis Testing"
   ]
  },
  {
   "cell_type": "markdown",
   "metadata": {},
   "source": [
    "A)"
   ]
  },
  {
   "cell_type": "code",
   "execution_count": null,
   "metadata": {},
   "outputs": [],
   "source": [
    "def foura():\n",
    "    vals,centerVal,bin_heights,bin_edges = loadData(30)\n",
    "    expected = Av*np.exp(-centerVal/lambv)\n",
    "    Av = float(input(\"What is your estimated A Value? from 2d \"))\n",
    "    lambv = float(input(\"What is your estimated Lambda Value? from 2d \"))\n",
    "    for o in range(0,len(centerVal)):\n",
    "        chi = ((bin_heights[o]- expected[o])**2)/expected[o] + chi\n",
    "    print(\"The chi value is:\",chi)\n",
    "    print(\"The reduced chi value is:\",chi/(len(centerVal)-2))\n",
    "foura()"
   ]
  },
  {
   "cell_type": "markdown",
   "metadata": {},
   "source": [
    "B)"
   ]
  },
  {
   "cell_type": "markdown",
   "metadata": {},
   "source": [
    "This method is very slow, I would not recommend using this."
   ]
  },
  {
   "cell_type": "code",
   "execution_count": null,
   "metadata": {},
   "outputs": [],
   "source": [
    "def twodReturnFourValues():\n",
    "    bin = 30\n",
    "    vals,centerVal,bin_heights,bin_edges = loadData(bin)\n",
    "    centerVal = np.array(centerVal)\n",
    "    std = np.sqrt(bin_heights)\n",
    "    step = 1\n",
    "    massVal = np.arange(104.0,155.0,step)\n",
    "    chiArray = [9999,0,0]\n",
    "    chi = 0\n",
    "    A = 40000\n",
    "    lamb = 29\n",
    "    if(A < 0):\n",
    "        A = 1\n",
    "    for i in range(0,30000):\n",
    "        if(i%5000 == 0):\n",
    "                print(i,\"A have been checked\")\n",
    "                print(chiArray,\"where [chi,A,lamb]\")\n",
    "        Av = A + i\n",
    "        for k in range(0,600):\n",
    "            lambv = lamb +k/100\n",
    "            chi = 0\n",
    "            expected = Av*np.exp(-centerVal/lambv)\n",
    "            for o in range(0,len(centerVal)):\n",
    "                chi = ((bin_heights[o]- expected[o])**2)/expected[o] + chi\n",
    "            #chi = chi/float(9-2)\n",
    "            if(chiArray[0]> chi):\n",
    "                chiArray = [chi,Av,lambv]\n",
    "    print(\"All A have been checked\")\n",
    "    print(chiArray,\"Final [chi,A,lamb]\")\n",
    "    n = 0\n",
    "    for i in range(0,len(centerVal)):\n",
    "        if(centerVal[o]<120):\n",
    "            n = n +1\n",
    "        \n",
    "    return float(chiArray[0])\n",
    "\n",
    "def chicurvefit(x,k,A):\n",
    "    curve = A*(x**(k/2-1)*np.exp(-x/2))/(2**(k/2)*sp.special.gamma(k/2))\n",
    "    return curve\n",
    "\n",
    "def fit_curve(x,A,lamb):\n",
    "    curve = A*np.exp(-x/lamb)\n",
    "    return curve\n",
    "\n",
    "def chi10k0signal():\n",
    "    chiArray = []\n",
    "    bin = 30\n",
    "    for i in range(0,10000):\n",
    "        chi = 0\n",
    "        if(i%1000 == 0):\n",
    "            print(\"Finished Running\",i,\"Simulations out of 10000\")\n",
    "        vals,centerVal,bin_heights,bin_edges = loadDataVariableSignal(bin,0)\n",
    "        print(i,\"Tik Count\")\n",
    "        centerVal = np.array(centerVal)\n",
    "        chi = twodtemp(A,lamb,centerVal,bin_heights)\n",
    "        chiArray.append(chi)\n",
    "    np.savetxt(\"10kBackgroundFullBackground.csv\", chiArray, delimiter=\",\")\n",
    "    bin_heights, bin_edges, patches = plt.hist(chiArray, range = [0,100], bins = 33,histtype = 'step', label = \"$\\chi^2$ (Signal = 0) (Bin = 33)\")\n",
    "    centerVal = []\n",
    "    for i in range(0,len(bin_edges)-1):\n",
    "        midVal = (bin_edges[i]+bin_edges[i+1])*0.5\n",
    "        centerVal.append(midVal)\n",
    "    centerVal = np.array(centerVal)\n",
    "    initial_guess = [26,400000]\n",
    "    po1,cov1 = sp.optimize.curve_fit(chicurvefit,centerVal,bin_heights,initial_guess)\n",
    "    print(po1[0],\" - Estimated number of freedom\")\n",
    "    print(po1[1])\n",
    "    plt.errorbar(centerVal, bin_heights, yerr=np.sqrt(bin_heights), fmt='.', color = \"black\",linewidth=1)\n",
    "    plt.plot(centerVal,bin_heights,'.', label = \"Data\",color = \"black\")\n",
    "    plt.plot(massVal,po1[1]*(massVal**(po1[0]/2-1)*np.exp(-massVal/2))/(2**(po1[0]/2)*sp.special.gamma(po1[0]/2)),color = 'red', label = \"$\\chi^2$ fit (k = \"+str(int(po1[0]))+\")\")\n",
    "    plt.xlabel('$\\chi^(2)$')\n",
    "    plt.ylabel('Frequency')\n",
    "    plt.legend()\n",
    "    plt.show()\n",
    "chi10k0signal()"
   ]
  },
  {
   "cell_type": "markdown",
   "metadata": {},
   "source": [
    "This is an unoffical way, but manages to do it faster."
   ]
  },
  {
   "cell_type": "code",
   "execution_count": null,
   "metadata": {},
   "outputs": [],
   "source": [
    "def chicurvefit(x,k,A):\n",
    "    curve = A*(x**(k/2-1)*np.exp(-x/2))/(2**(k/2)*sp.special.gamma(k/2))\n",
    "    return curve\n",
    "\n",
    "def fit_curve(x,A,lamb):\n",
    "    curve = A*np.exp(-x/lamb)\n",
    "    return curve\n",
    "\n",
    "def chi10kFast0Signal():\n",
    "    chiArray = []\n",
    "    A=40000\n",
    "    lamb=40\n",
    "    initial_guess = [A,lamb]\n",
    "    bin = 30\n",
    "    massVal = np.arange(0,100,1)\n",
    "    for i in range(0,10000):\n",
    "        if(i%1000 ==0):\n",
    "            print(\"Finished Running\",i,\"Simulations out of 10000\")\n",
    "        chi = 0\n",
    "        vals,centerVal,bin_heights,bin_edges = loadDataVariableSignal(bin,0)\n",
    "        centerVal = np.array(centerVal)\n",
    "        po1,cov1 = sp.optimize.curve_fit(fit_curve,centerVal,bin_heights,initial_guess,np.sqrt(bin_heights))\n",
    "        expected = po1[0]*np.exp(-centerVal/po1[1])\n",
    "        for o in range(0,len(centerVal)):\n",
    "            chi = (bin_heights[o]- expected[o])**2/expected[o] + chi\n",
    "        chiArray.append(chi)\n",
    "    np.savetxt(\"10kBackgroundFullBackground.csv\", chiArray, delimiter=\",\")\n",
    "    r = plt.figure(2)\n",
    "    bin_heights, bin_edges, patches = plt.hist(chiArray, range = [0,100], bins = 30,histtype = 'step', label = \"$\\chi^2$ (Signal = 0) (Bin = 30)\")\n",
    "    centerVal = []\n",
    "    for i in range(0,len(bin_edges)-1):\n",
    "        midVal = (bin_edges[i]+bin_edges[i+1])*0.5\n",
    "        centerVal.append(midVal)\n",
    "    centerVal = np.array(centerVal)\n",
    "    initial_guess = [26,400000]\n",
    "    po1,cov1 = sp.optimize.curve_fit(chicurvefit,centerVal,bin_heights,initial_guess)\n",
    "    print(\"The Degree of Freedom is:\",po1[0])\n",
    "    print(\"The scale value is:\",po1[1])\n",
    "    plt.errorbar(centerVal, bin_heights, yerr=np.sqrt(bin_heights), fmt='.', color = \"black\",linewidth=1)\n",
    "    plt.plot(centerVal,bin_heights,'.', label = \"Data\",color = \"black\")\n",
    "    plt.plot(massVal,po1[1]*(massVal**(po1[0]/2-1)*np.exp(-massVal/2))/(2**(po1[0]/2)*sp.special.gamma(po1[0]/2)),color = 'red', label = \"$\\chi^2$ fit (k = \"+str(int(po1[0]))+\")\")\n",
    "    plt.xlabel('$\\chi^2$')\n",
    "    plt.ylabel('Frequency')\n",
    "    plt.legend()\n",
    "    plt.show()\n",
    "chi10kFast0Signal()"
   ]
  },
  {
   "cell_type": "markdown",
   "metadata": {},
   "source": [
    "C)"
   ]
  },
  {
   "cell_type": "markdown",
   "metadata": {},
   "source": [
    "Signal = 100"
   ]
  },
  {
   "cell_type": "code",
   "execution_count": null,
   "metadata": {},
   "outputs": [],
   "source": [
    "def fit_curve(x,A,lamb):\n",
    "    curve = A*np.exp(-x/lamb)\n",
    "    return curve\n",
    "\n",
    "def chi10kFast100Signal():\n",
    "    chiArray = []\n",
    "    A=40000\n",
    "    lamb=40\n",
    "    initial_guess = [A,lamb]\n",
    "    bin = 30\n",
    "    for i in range(0,10000):\n",
    "        if(i%1000 ==0):\n",
    "            print(\"Finished Running\",i,\"Simulations out of 10000\")\n",
    "        chi = 0\n",
    "        vals,centerVal,bin_heights,bin_edges = loadDataVariableSignal(bin,100)\n",
    "        centerVal = np.array(centerVal)\n",
    "        po1,cov1 = sp.optimize.curve_fit(fit_curve,centerVal,bin_heights,initial_guess,np.sqrt(bin_heights))\n",
    "        expected = po1[0]*np.exp(-centerVal/po1[1])\n",
    "        for o in range(0,len(centerVal)):\n",
    "            chi = (bin_heights[o]- expected[o])**2/expected[o] + chi\n",
    "        chiArray.append(chi)\n",
    "    np.savetxt(\"10kBackground_Signal100.csv\", chiArray, delimiter=\",\")\n",
    "    bin_heights, bin_edges, patches = plt.hist(chiArray, range = [0,100], bins = 33,histtype = 'step', label = \"$\\chi^2$ (Signal = 100) (Bin = 33)\")\n",
    "    centerVal = []\n",
    "    for i in range(0,len(bin_edges)-1):\n",
    "        midVal = (bin_edges[i]+bin_edges[i+1])*0.5\n",
    "        centerVal.append(midVal)\n",
    "    centerVal = np.array(centerVal)\n",
    "    plt.errorbar(centerVal, bin_heights, yerr=np.sqrt(bin_heights), fmt='.', color = \"black\",linewidth=1)\n",
    "    plt.plot(centerVal,bin_heights,'.', label = \"Data\",color = \"black\")\n",
    "    plt.xlabel('$\\chi^2$')\n",
    "    plt.ylabel('Frequency')\n",
    "    plt.legend()\n",
    "    plt.show()\n",
    "chi10kFast100Signal()"
   ]
  },
  {
   "cell_type": "markdown",
   "metadata": {},
   "source": [
    "Signal = 200"
   ]
  },
  {
   "cell_type": "code",
   "execution_count": null,
   "metadata": {},
   "outputs": [],
   "source": [
    "def fit_curve(x,A,lamb):\n",
    "    curve = A*np.exp(-x/lamb)\n",
    "    return curve\n",
    "\n",
    "def chi10kFast200Signal():\n",
    "    chiArray = []\n",
    "    A=40000\n",
    "    lamb=40\n",
    "    initial_guess = [A,lamb]\n",
    "    bin = 30\n",
    "    for i in range(0,10000):\n",
    "        if(i%1000 ==0):\n",
    "            print(\"Finished Running\",i,\"Simulations out of 10000\")\n",
    "        chi = 0\n",
    "        vals,centerVal,bin_heights,bin_edges = loadDataVariableSignal(bin,200)\n",
    "        centerVal = np.array(centerVal)\n",
    "        po1,cov1 = sp.optimize.curve_fit(fit_curve,centerVal,bin_heights,initial_guess,np.sqrt(bin_heights))\n",
    "        expected = po1[0]*np.exp(-centerVal/po1[1])\n",
    "        for o in range(0,len(centerVal)):\n",
    "            chi = (bin_heights[o]- expected[o])**2/expected[o] + chi\n",
    "        chiArray.append(chi)\n",
    "    np.savetxt(\"10kBackground_Signal200.csv\", chiArray, delimiter=\",\")\n",
    "    bin_heights, bin_edges, patches = plt.hist(chiArray, range = [0,120], bins = 45,histtype = 'step', label = \"$\\chi^2$ (Signal = 200) (Bin = 45)\")\n",
    "    centerVal = []\n",
    "    for i in range(0,len(bin_edges)-1):\n",
    "        midVal = (bin_edges[i]+bin_edges[i+1])*0.5\n",
    "        centerVal.append(midVal)\n",
    "    centerVal = np.array(centerVal)\n",
    "    plt.errorbar(centerVal, bin_heights, yerr=np.sqrt(bin_heights), fmt='.', color = \"black\",linewidth=1)\n",
    "    plt.plot(centerVal,bin_heights,'.', label = \"Data\",color = \"black\")\n",
    "    plt.xlabel('$\\chi^2$')\n",
    "    plt.ylabel('Frequency')\n",
    "    plt.legend()\n",
    "    plt.show()\n",
    "chi10kFast200Signal()"
   ]
  },
  {
   "cell_type": "markdown",
   "metadata": {},
   "source": [
    "Signal = 300"
   ]
  },
  {
   "cell_type": "code",
   "execution_count": null,
   "metadata": {},
   "outputs": [],
   "source": [
    "def fit_curve(x,A,lamb):\n",
    "    curve = A*np.exp(-x/lamb)\n",
    "    return curve\n",
    "\n",
    "def chi10kFast300Signal():\n",
    "    chiArray = []\n",
    "    A=40000\n",
    "    lamb=40\n",
    "    initial_guess = [A,lamb]\n",
    "    bin = 30\n",
    "    for i in range(0,10000):\n",
    "        if(i%1000 ==0):\n",
    "            print(\"Finished Running\",i,\"Simulations out of 10000\")\n",
    "        chi = 0\n",
    "        vals,centerVal,bin_heights,bin_edges = loadDataVariableSignal(bin,300)\n",
    "        centerVal = np.array(centerVal)\n",
    "        po1,cov1 = sp.optimize.curve_fit(fit_curve,centerVal,bin_heights,initial_guess,np.sqrt(bin_heights))\n",
    "        expected = po1[0]*np.exp(-centerVal/po1[1])\n",
    "        for o in range(0,len(centerVal)):\n",
    "            chi = (bin_heights[o]- expected[o])**2/expected[o] + chi\n",
    "        chiArray.append(chi)\n",
    "    np.savetxt(\"10kBackground_Signal300.csv\", chiArray, delimiter=\",\")\n",
    "    bin_heights, bin_edges, patches = plt.hist(chiArray, range = [0,170], bins = 60,histtype = 'step', label = \"$\\chi^2$ (Signal = 300) (Bin = 60)\")\n",
    "    centerVal = []\n",
    "    for i in range(0,len(bin_edges)-1):\n",
    "        midVal = (bin_edges[i]+bin_edges[i+1])*0.5\n",
    "        centerVal.append(midVal)\n",
    "    centerVal = np.array(centerVal)\n",
    "    plt.errorbar(centerVal, bin_heights, yerr=np.sqrt(bin_heights), fmt='.', color = \"black\",linewidth=1)\n",
    "    plt.plot(centerVal,bin_heights,'.', label = \"Data\",color = \"black\")\n",
    "    plt.xlabel('$\\chi^2$')\n",
    "    plt.ylabel('Frequency')\n",
    "    plt.legend()\n",
    "    plt.show()\n",
    "chi10kFast300Signal()"
   ]
  },
  {
   "cell_type": "markdown",
   "metadata": {},
   "source": [
    "Signal = 400"
   ]
  },
  {
   "cell_type": "code",
   "execution_count": null,
   "metadata": {},
   "outputs": [],
   "source": [
    "def fit_curve(x,A,lamb):\n",
    "    curve = A*np.exp(-x/lamb)\n",
    "    return curve\n",
    "\n",
    "def chi10kFast400Signal():\n",
    "    chiArray = []\n",
    "    A=40000\n",
    "    lamb=40\n",
    "    initial_guess = [A,lamb]\n",
    "    bin = 30\n",
    "    for i in range(0,10000):\n",
    "        if(i%1000 ==0):\n",
    "            print(\"Finished Running\",i,\"Simulations out of 10000\")\n",
    "        chi = 0\n",
    "        vals,centerVal,bin_heights,bin_edges = loadDataVariableSignal(bin,400)\n",
    "        centerVal = np.array(centerVal)\n",
    "        po1,cov1 = sp.optimize.curve_fit(fit_curve,centerVal,bin_heights,initial_guess,np.sqrt(bin_heights))\n",
    "        expected = po1[0]*np.exp(-centerVal/po1[1])\n",
    "        for o in range(0,len(centerVal)):\n",
    "            chi = (bin_heights[o]- expected[o])**2/expected[o] + chi\n",
    "        chiArray.append(chi)\n",
    "    np.savetxt(\"10kBackground_Signal400.csv\", chiArray, delimiter=\",\")\n",
    "    bin_heights, bin_edges, patches = plt.hist(chiArray, range = [0,200], bins = 65,histtype = 'step', label = \"$\\chi^2$ (Signal = 400) (Bin = 65)\")\n",
    "    centerVal = []\n",
    "    for i in range(0,len(bin_edges)-1):\n",
    "        midVal = (bin_edges[i]+bin_edges[i+1])*0.5\n",
    "        centerVal.append(midVal)\n",
    "    centerVal = np.array(centerVal)\n",
    "    plt.errorbar(centerVal, bin_heights, yerr=np.sqrt(bin_heights), fmt='.', color = \"black\",linewidth=1)\n",
    "    plt.plot(centerVal,bin_heights,'.', label = \"Data\",color = \"black\")\n",
    "    plt.xlabel('$\\chi^2$')\n",
    "    plt.ylabel('Frequency')\n",
    "    plt.legend()\n",
    "    plt.show()\n",
    "chi10kFast400Signal()"
   ]
  },
  {
   "cell_type": "markdown",
   "metadata": {},
   "source": [
    "Through Trial and Error the signal 226 gives us a p = 0.05, which is a chi square of 41.34. "
   ]
  },
  {
   "cell_type": "code",
   "execution_count": null,
   "metadata": {},
   "outputs": [],
   "source": [
    "def fit_curve(x,A,lamb):\n",
    "    curve = A*np.exp(-x/lamb)\n",
    "    return curve\n",
    "\n",
    "def chi10kFast226Signal():\n",
    "    chiArray = []\n",
    "    A=40000\n",
    "    lamb=40\n",
    "    initial_guess = [A,lamb]\n",
    "    bin = 30\n",
    "    for i in range(0,10000):\n",
    "        if(i%1000 ==0):\n",
    "            print(\"Finished Running\",i,\"Simulations out of 10000\")\n",
    "        chi = 0\n",
    "        vals,centerVal,bin_heights,bin_edges = loadDataVariableSignal(bin,226)\n",
    "        centerVal = np.array(centerVal)\n",
    "        po1,cov1 = sp.optimize.curve_fit(fit_curve,centerVal,bin_heights,initial_guess,np.sqrt(bin_heights))\n",
    "        expected = po1[0]*np.exp(-centerVal/po1[1])\n",
    "        for o in range(0,len(centerVal)):\n",
    "            chi = (bin_heights[o]- expected[o])**2/expected[o] + chi\n",
    "        chiArray.append(chi)\n",
    "    np.savetxt(\"10kBackground_Signal226.csv\", chiArray, delimiter=\",\")\n",
    "    bin_heights, bin_edges, patches = plt.hist(chiArray, range = [0,150], bins = 40,histtype = 'step', label = \"$\\chi^2$ (Signal = 226) (Bin = 40)\")\n",
    "    centerVal = []\n",
    "    for i in range(0,len(bin_edges)-1):\n",
    "        midVal = (bin_edges[i]+bin_edges[i+1])*0.5\n",
    "        centerVal.append(midVal)\n",
    "    centerVal = np.array(centerVal)\n",
    "    plt.errorbar(centerVal, bin_heights, yerr=np.sqrt(bin_heights), fmt='.', color = \"black\",linewidth=1)\n",
    "    plt.plot(centerVal,bin_heights,'.', label = \"Data\",color = \"black\")\n",
    "    plt.xlabel('$\\chi^2$')\n",
    "    plt.ylabel('Frequency')\n",
    "    plt.legend()\n",
    "    plt.show()\n",
    "chi10kFast226Signal()"
   ]
  },
  {
   "cell_type": "markdown",
   "metadata": {},
   "source": [
    "To save time, this method just loads data for each signal and plots it as an historgram. Make sure to change the bin and range values to your desired look, also update the labels."
   ]
  },
  {
   "cell_type": "code",
   "execution_count": null,
   "metadata": {},
   "outputs": [],
   "source": [
    "def histogram():\n",
    "    chiArray = np.loadtxt(\"10kBackground_Signal226.csv\",delimiter=',', unpack=True)\n",
    "    bin_heights, bin_edges, patches = plt.hist(chiArray, range = [0,150], bins = 40,histtype = 'step', label = \"$\\chi^2$ (Signal = 226) (Bin = 40)\")\n",
    "    centerVal = []\n",
    "    for i in range(0,len(bin_edges)-1):\n",
    "        midVal = (bin_edges[i]+bin_edges[i+1])*0.5\n",
    "        centerVal.append(midVal)\n",
    "    centerVal = np.array(centerVal)\n",
    "    plt.errorbar(centerVal, bin_heights, yerr=np.sqrt(bin_heights), fmt='.', color = \"black\",linewidth=1)\n",
    "    plt.plot(centerVal,bin_heights,'.', label = \"Data\",color = \"black\")\n",
    "    plt.xlabel('$\\chi^2$')\n",
    "    plt.ylabel('Frequency')\n",
    "    plt.legend()\n",
    "    plt.show()\n",
    "histogram()"
   ]
  },
  {
   "cell_type": "markdown",
   "metadata": {},
   "source": [
    "5. Signal Estimation"
   ]
  },
  {
   "cell_type": "markdown",
   "metadata": {},
   "source": [
    "A)"
   ]
  },
  {
   "cell_type": "code",
   "execution_count": null,
   "metadata": {},
   "outputs": [],
   "source": [
    "def fullCurveFit(x,m,sigVal,A,a,lamb):\n",
    "    curve = a*np.exp(-x/lamb)+signal_gaus(x,m,sigVal,A)\n",
    "    return curve\n",
    "\n",
    "def fivea():\n",
    "    chi = 0\n",
    "    Av = float(input(\"What is your estimated A Value? from 2d \"))\n",
    "    lambv = float(input(\"What is your estimated Lambda Value? from 2d \"))\n",
    "    A_Signal = 700\n",
    "    mu = 125\n",
    "    sig = 1.5\n",
    "    bin = 30\n",
    "    vals,centerVal,bin_heights,bin_edges = loadData(bin)\n",
    "    centerVal = np.array(centerVal)\n",
    "    expected = fullCurveFit(centerVal,mu,sig,A_Signal,Av,lambv)\n",
    "    std = np.sqrt(bin_heights)\n",
    "    for o in range(0,len(centerVal)):\n",
    "        chi = (bin_heights[o]- expected[o])**2/expected[o] + chi\n",
    "    print(\"The chi squared Value is\", chi)\n",
    "    print(\"The reduced chi squared Value is\", chi/(len(centerVal)-5))\n",
    "    stdReduceChi = 0\n",
    "    for o in range(0,len(centerVal)):\n",
    "        stdReduceChi = (bin_heights[o]- expected[o])**2/(std[o])**2 + stdReduceChi\n",
    "    print(\"The sigma reduced chi squared Value is\", stdReduceChi/(len(centerVal)-5))\n",
    "    massVal = np.arange(104.0,155.0,0.1)\n",
    "    plt.plot(massVal,fullCurveFit(massVal,mu,sig,A_Signal,Av,lambv),label = \"Estimated Parameters\")\n",
    "    plt.hist(vals, range = [104.0,155.0], bins = 30)\n",
    "    plt.plot(centerVal,bin_heights,\".\", label = \"Data\",color = \"black\")\n",
    "    plt.errorbar(centerVal, bin_heights, yerr=std, fmt='.', color = \"black\",linewidth=0.5)\n",
    "    plt.xlabel(\"Rest Mass (GeV)\")\n",
    "    plt.ylabel(\"Number of Entries\")\n",
    "    plt.legend()\n",
    "    plt.show()\n",
    "fivea()"
   ]
  },
  {
   "cell_type": "markdown",
   "metadata": {},
   "source": [
    "B)"
   ]
  },
  {
   "cell_type": "markdown",
   "metadata": {},
   "source": [
    "Optimize parameters: To get the same result every time, run the method in spyder. I decided to use scipy for this as it would take very long if I used the chi squared method to loop over every combination of parameters."
   ]
  },
  {
   "cell_type": "code",
   "execution_count": null,
   "metadata": {},
   "outputs": [],
   "source": [
    "def fiveaOptimize():\n",
    "    chi = 0\n",
    "    initial_guess = [125,10,1000,70000,33]\n",
    "    bin = 30\n",
    "    vals,centerVal,bin_heights,bin_edges = loadData(bin)\n",
    "    centerVal = np.array(centerVal)\n",
    "    po1,cov1 = sp.optimize.curve_fit(fullCurveFit,centerVal,bin_heights,initial_guess)\n",
    "    expected = fullCurveFit(centerVal,po1[0],po1[1],po1[2],po1[3],po1[4])\n",
    "    std = np.sqrt(bin_heights)\n",
    "    for o in range(0,len(centerVal)):\n",
    "        chi = (bin_heights[o]- expected[o])**2/expected[o] + chi\n",
    "    print(\"The chi squared Value is\", chi)\n",
    "    print(\"The reduced chi squared Value is\", chi/(len(centerVal)-5))\n",
    "    stdReduceChi = 0\n",
    "    for o in range(0,len(centerVal)):\n",
    "        stdReduceChi = (bin_heights[o]- expected[o])**2/(std[o])**2 + stdReduceChi\n",
    "    print(\"The sigma reduced chi squared Value is\", stdReduceChi/(len(centerVal)-5))\n",
    "    massVal = np.arange(104.0,155.0,0.1)\n",
    "    print(\"mu:\",po1[0],\" Sigma:\",po1[1],\" Gaussian Scale:\",po1[2],\" Expotenial Scale:\",po1[3],\" Lambda:\",po1[4])\n",
    "    plt.plot(massVal,fullCurveFit(massVal,po1[0],po1[1],po1[2],po1[3],po1[4]),label = \"Estimated Parameters\")\n",
    "    plt.hist(vals, range = [104.0,155.0], bins = 30)\n",
    "    plt.plot(centerVal,bin_heights,\".\", label = \"Data\",color = \"black\")\n",
    "    plt.errorbar(centerVal, bin_heights, yerr=std, fmt='.', color = \"black\",linewidth=0.5)\n",
    "    plt.xlabel(\"Rest Mass (GeV)\")\n",
    "    plt.ylabel(\"Number of Entries\")\n",
    "    plt.legend()\n",
    "    plt.show()\n",
    "fiveaOptimize()"
   ]
  },
  {
   "cell_type": "markdown",
   "metadata": {},
   "source": [
    "C)"
   ]
  },
  {
   "cell_type": "code",
   "execution_count": null,
   "metadata": {},
   "outputs": [],
   "source": [
    "def fullCurveFit(x,m,sigVal,A,a,lamb):\n",
    "    curve = a*np.exp(-x/lamb)+signal_gaus(x,m,sigVal,A)\n",
    "    return curve\n",
    "\n",
    "def fivec():\n",
    "    sig =float(input(\"What was the sigma value in 5b? \"))\n",
    "    AGaus =float(input(\"What was the Gaussian Scale value in 5b? \"))\n",
    "    AExpo =float(input(\"What was the Expotenial Scale value in 5b? \"))\n",
    "    lamb =float(input(\"What was the Lambda value in 5b? \"))\n",
    "    mass = np.arange(104,155,1)\n",
    "    chiArray = []\n",
    "    vals,centerVal,bin_heights,bin_edges = fasterData()\n",
    "    centerVal = np.array(centerVal)\n",
    "    for i in range(104,155):\n",
    "        chi = 0\n",
    "        expected = fullCurveFit(centerVal,i,sig,AGaus,AExpo,lamb)\n",
    "        for o in range(0,len(centerVal)):\n",
    "            chi = (bin_heights[o]- expected[o])**2/expected[o] + chi\n",
    "        chiArray.append(chi)\n",
    "    plt.plot(mass,chiArray,\".\")\n",
    "    plt.xlabel('Rest Mass (Gev)')\n",
    "    plt.ylabel('$\\chi^2$')\n",
    "    plt.show()"
   ]
  }
 ],
 "metadata": {
  "kernelspec": {
   "display_name": "Python 3",
   "language": "python",
   "name": "python3"
  },
  "language_info": {
   "codemirror_mode": {
    "name": "ipython",
    "version": 3
   },
   "file_extension": ".py",
   "mimetype": "text/x-python",
   "name": "python",
   "nbconvert_exporter": "python",
   "pygments_lexer": "ipython3",
   "version": "3.8.3"
  }
 },
 "nbformat": 4,
 "nbformat_minor": 4
}
